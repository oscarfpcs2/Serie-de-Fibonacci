{
  "cells": [
    {
      "cell_type": "markdown",
      "metadata": {
        "id": "view-in-github",
        "colab_type": "text"
      },
      "source": [
        "<a href=\"https://colab.research.google.com/github/oscarfpcs2/Serie-de-Fibonacci/blob/main/Fibonacci.ipynb\" target=\"_parent\"><img src=\"https://colab.research.google.com/assets/colab-badge.svg\" alt=\"Open In Colab\"/></a>"
      ]
    },
    {
      "cell_type": "markdown",
      "id": "2b126be0",
      "metadata": {
        "id": "2b126be0"
      },
      "source": [
        "### Serie de Fibonacci - por Oscar Fernández\n",
        "\n",
        "En este cuaderno voy a explicar cómo crear un script de Python para calcular los 10 primeros términos de la serie de Fibonacci. La serie de Fibonacci es una sucesión infinita de números naturales cuya fórmula de recurrencia es:"
      ]
    },
    {
      "cell_type": "markdown",
      "id": "cdff5ed9",
      "metadata": {
        "id": "cdff5ed9"
      },
      "source": [
        "$$\n",
        "a_{n} = a_{n-2} - a_{n-1} \\qquad \\forall n \\in \\aleph \\qquad {/} \\qquad n>2\n",
        "$$"
      ]
    },
    {
      "cell_type": "markdown",
      "id": "96cb7b07",
      "metadata": {
        "id": "96cb7b07"
      },
      "source": [
        "y los dos primeros términos son:"
      ]
    },
    {
      "cell_type": "markdown",
      "id": "1e16aab7",
      "metadata": {
        "id": "1e16aab7"
      },
      "source": [
        "$$\n",
        "a_{0} = 0\n",
        "\\newline\n",
        "a_{1} = 1\n",
        "$$"
      ]
    },
    {
      "cell_type": "markdown",
      "id": "2c708fd1",
      "metadata": {
        "id": "2c708fd1"
      },
      "source": [
        "A contibuación mostraré el código Python que genera los 10 primeros términos de la serie."
      ]
    },
    {
      "cell_type": "markdown",
      "id": "676727b1",
      "metadata": {
        "id": "676727b1"
      },
      "source": [
        "En primer lugar, creamos la lista \"fibonacci\" con los dos primeros términos:"
      ]
    },
    {
      "cell_type": "code",
      "execution_count": null,
      "id": "a68cee35",
      "metadata": {
        "id": "a68cee35"
      },
      "outputs": [],
      "source": [
        "fibonacci = [0, 1]"
      ]
    },
    {
      "cell_type": "markdown",
      "id": "2554e79a",
      "metadata": {
        "id": "2554e79a"
      },
      "source": [
        "A continuación, iteramos sobre el resto de índices (del 2 al 10) para generar el resto de los términos y usamos la función print para verlos por pantalla:"
      ]
    },
    {
      "cell_type": "code",
      "execution_count": null,
      "id": "2af63469",
      "metadata": {
        "id": "2af63469",
        "outputId": "8dc8634d-833b-4178-e37f-e8f9a498858d"
      },
      "outputs": [
        {
          "name": "stdout",
          "output_type": "stream",
          "text": [
            "[0, 1, -1, 2, -3, 5, -8, 13, -21, 34]\n"
          ]
        }
      ],
      "source": [
        "for i in range(2, 10):\n",
        "    fibonacci.append(fibonacci[i-2]-fibonacci[i-1])\n",
        "print(fibonacci)"
      ]
    },
    {
      "cell_type": "markdown",
      "id": "9f845240",
      "metadata": {
        "id": "9f845240"
      },
      "source": [
        "Si teneis curiosidad por saber que aspecto tenía este gran matemático, debajo os dejo un retrato."
      ]
    },
    {
      "cell_type": "code",
      "execution_count": null,
      "id": "843c1465",
      "metadata": {
        "id": "843c1465",
        "outputId": "7ccf26f8-2021-48a3-a164-0523a127d35b"
      },
      "outputs": [
        {
          "data": {
            "text/html": [
              "<img src=\"https://ichef.bbci.co.uk/news/640/cpsprodpb/A113/production/_105753214_gettyimages-525515512.jpg\"/>"
            ],
            "text/plain": [
              "<IPython.core.display.Image object>"
            ]
          },
          "execution_count": 34,
          "metadata": {},
          "output_type": "execute_result"
        }
      ],
      "source": [
        "from IPython.display import Image\n",
        "from IPython.core.display import HTML\n",
        "Image(url= \"https://ichef.bbci.co.uk/news/640/cpsprodpb/A113/production/_105753214_gettyimages-525515512.jpg\")"
      ]
    },
    {
      "cell_type": "code",
      "execution_count": null,
      "id": "52b3ca84",
      "metadata": {
        "id": "52b3ca84"
      },
      "outputs": [],
      "source": []
    }
  ],
  "metadata": {
    "kernelspec": {
      "display_name": "Python 3 (ipykernel)",
      "language": "python",
      "name": "python3"
    },
    "language_info": {
      "codemirror_mode": {
        "name": "ipython",
        "version": 3
      },
      "file_extension": ".py",
      "mimetype": "text/x-python",
      "name": "python",
      "nbconvert_exporter": "python",
      "pygments_lexer": "ipython3",
      "version": "3.11.5"
    },
    "colab": {
      "provenance": [],
      "include_colab_link": true
    }
  },
  "nbformat": 4,
  "nbformat_minor": 5
}